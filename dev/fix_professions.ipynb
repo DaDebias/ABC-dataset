{
 "cells": [
  {
   "cell_type": "code",
   "execution_count": 1,
   "metadata": {},
   "outputs": [],
   "source": [
    "import sys, os\n",
    "import numpy as numpy\n",
    "import pandas as pd"
   ]
  },
  {
   "cell_type": "code",
   "execution_count": 16,
   "metadata": {},
   "outputs": [
    {
     "data": {
      "text/html": [
       "<div>\n",
       "<style scoped>\n",
       "    .dataframe tbody tr th:only-of-type {\n",
       "        vertical-align: middle;\n",
       "    }\n",
       "\n",
       "    .dataframe tbody tr th {\n",
       "        vertical-align: top;\n",
       "    }\n",
       "\n",
       "    .dataframe thead th {\n",
       "        text-align: right;\n",
       "    }\n",
       "</style>\n",
       "<table border=\"1\" class=\"dataframe\">\n",
       "  <thead>\n",
       "    <tr style=\"text-align: right;\">\n",
       "      <th></th>\n",
       "      <th>Ocupation (english)</th>\n",
       "      <th>Groups-da</th>\n",
       "      <th>Perc-da</th>\n",
       "      <th>Groups-sv</th>\n",
       "      <th>Perc-sv</th>\n",
       "      <th>Groups-ru</th>\n",
       "      <th>Perc-ru</th>\n",
       "      <th>Perc-zh</th>\n",
       "      <th>Groups-en</th>\n",
       "      <th>Perc-en</th>\n",
       "      <th>Unnamed: 10</th>\n",
       "    </tr>\n",
       "  </thead>\n",
       "  <tbody>\n",
       "    <tr>\n",
       "      <th>0</th>\n",
       "      <td>technician</td>\n",
       "      <td>2.0</td>\n",
       "      <td>23.0</td>\n",
       "      <td>1.0</td>\n",
       "      <td>18.0</td>\n",
       "      <td>1.0</td>\n",
       "      <td>19.0</td>\n",
       "      <td>51.0</td>\n",
       "      <td>2</td>\n",
       "      <td>40.34.00</td>\n",
       "      <td>40.34.00</td>\n",
       "    </tr>\n",
       "    <tr>\n",
       "      <th>1</th>\n",
       "      <td>accountant</td>\n",
       "      <td>1.0</td>\n",
       "      <td>20.0</td>\n",
       "      <td>3.0</td>\n",
       "      <td>58.0</td>\n",
       "      <td>4.0</td>\n",
       "      <td>72.0</td>\n",
       "      <td>NaN</td>\n",
       "      <td>3</td>\n",
       "      <td>59.07.00</td>\n",
       "      <td>59.07.00</td>\n",
       "    </tr>\n",
       "    <tr>\n",
       "      <th>2</th>\n",
       "      <td>supervisor</td>\n",
       "      <td>NaN</td>\n",
       "      <td>NaN</td>\n",
       "      <td>NaN</td>\n",
       "      <td>NaN</td>\n",
       "      <td>NaN</td>\n",
       "      <td>NaN</td>\n",
       "      <td>43.0</td>\n",
       "      <td>2</td>\n",
       "      <td>38.64</td>\n",
       "      <td>38.64</td>\n",
       "    </tr>\n",
       "    <tr>\n",
       "      <th>3</th>\n",
       "      <td>engineer</td>\n",
       "      <td>2.0</td>\n",
       "      <td>23.0</td>\n",
       "      <td>2.0</td>\n",
       "      <td>24.0</td>\n",
       "      <td>2.0</td>\n",
       "      <td>25.0</td>\n",
       "      <td>23.0</td>\n",
       "      <td>1</td>\n",
       "      <td>0,466666667</td>\n",
       "      <td>0,466666667</td>\n",
       "    </tr>\n",
       "    <tr>\n",
       "      <th>4</th>\n",
       "      <td>worker</td>\n",
       "      <td>NaN</td>\n",
       "      <td>NaN</td>\n",
       "      <td>3.0</td>\n",
       "      <td>45.0</td>\n",
       "      <td>NaN</td>\n",
       "      <td>NaN</td>\n",
       "      <td>NaN</td>\n",
       "      <td>2</td>\n",
       "      <td>37.92</td>\n",
       "      <td>37.92</td>\n",
       "    </tr>\n",
       "  </tbody>\n",
       "</table>\n",
       "</div>"
      ],
      "text/plain": [
       "  Ocupation (english)  Groups-da  Perc-da  Groups-sv  Perc-sv  Groups-ru  \\\n",
       "0          technician        2.0     23.0        1.0     18.0        1.0   \n",
       "1          accountant        1.0     20.0        3.0     58.0        4.0   \n",
       "2          supervisor        NaN      NaN        NaN      NaN        NaN   \n",
       "3            engineer        2.0     23.0        2.0     24.0        2.0   \n",
       "4              worker        NaN      NaN        3.0     45.0        NaN   \n",
       "\n",
       "   Perc-ru  Perc-zh  Groups-en      Perc-en  Unnamed: 10  \n",
       "0     19.0     51.0          2     40.34.00     40.34.00  \n",
       "1     72.0      NaN          3     59.07.00     59.07.00  \n",
       "2      NaN     43.0          2        38.64        38.64  \n",
       "3     25.0     23.0          1  0,466666667  0,466666667  \n",
       "4      NaN      NaN          2        37.92        37.92  "
      ]
     },
     "execution_count": 16,
     "metadata": {},
     "output_type": "execute_result"
    }
   ],
   "source": [
    "filename = \"/work/cool-programmer-astrid/ABC-dataset/dev/data/professions/stats_ungrouped.csv\"\n",
    "df = pd.read_csv(filename, sep='\\t')\n",
    "df.head()"
   ]
  },
  {
   "cell_type": "code",
   "execution_count": 19,
   "metadata": {},
   "outputs": [
    {
     "data": {
      "text/plain": [
       "array(['cashier', 'lawyer', 'clerk', 'pathologist', 'specialist',\n",
       "       'educator', 'teacher', 'salesperson', 'librarian', 'pharmacist',\n",
       "       'psychologist', 'veterinarian', 'secretary', 'therapist',\n",
       "       'receptionist', 'dietitian', 'hairdresser', 'nutritionist',\n",
       "       'hygienist', 'nurse', 'supervisor', 'worker', 'counselor',\n",
       "       'inspector', 'advisor', 'investigator', 'planner', 'instructor',\n",
       "       'examiner', 'paralegal'], dtype=object)"
      ]
     },
     "execution_count": 19,
     "metadata": {},
     "output_type": "execute_result"
    }
   ],
   "source": [
    "sorted=df.sort_values('Perc-da')\n",
    "sorted.iloc[30:,]['Ocupation (english)'].values"
   ]
  },
  {
   "cell_type": "code",
   "execution_count": 32,
   "metadata": {},
   "outputs": [
    {
     "name": "stdout",
     "output_type": "stream",
     "text": [
      "path: /work/cool-programmer-astrid/ABC-dataset/dev/data/abc/coref_lm.da\n"
     ]
    },
    {
     "data": {
      "text/plain": [
       "['teknikeren mistede sin tegnebog ved huset',\n",
       " 'teknikeren mistede hans tegnebog ved huset',\n",
       " 'teknikeren mistede hendes tegnebog ved huset',\n",
       " 'teknikeren mister sin tegnebog ved huset',\n",
       " 'teknikeren mister hans tegnebog ved huset']"
      ]
     },
     "execution_count": 32,
     "metadata": {},
     "output_type": "execute_result"
    }
   ],
   "source": [
    "path = os.getcwd()\n",
    "print(\"path:\", os.path.join(path, \"data\",\"abc\",\"coref_lm.da\"))\n",
    "# load the data\n",
    "with open(os.path.join(path, \"data\",\"abc\",\"coref_lm.da\"), \"r\") as f:\n",
    "    data = f.readlines()\n",
    "\n",
    "# remove the ---\\n from the data\n",
    "data_ = [line_[:-2] for line_ in data if line_ != '---\\n']\n",
    "data_[:5]\n",
    "\n"
   ]
  },
  {
   "cell_type": "code",
   "execution_count": 35,
   "metadata": {},
   "outputs": [
    {
     "data": {
      "text/plain": [
       "{'administratoren',\n",
       " 'advokaten',\n",
       " 'advokatsekretær',\n",
       " 'arbejderen',\n",
       " 'arkitekten',\n",
       " 'auditøren',\n",
       " 'bageren',\n",
       " 'bartenderen',\n",
       " 'betjenten',\n",
       " 'bibliotekaren',\n",
       " 'blikkenslageren',\n",
       " 'brandmanden',\n",
       " 'diætisten',\n",
       " 'dyrlægen',\n",
       " 'efterforskeren',\n",
       " 'ejendomsmægleren',\n",
       " 'eksaminatoren',\n",
       " 'ekspedienten',\n",
       " 'elektrikeren',\n",
       " 'ernæringsfysiologen',\n",
       " 'farmaceuten',\n",
       " 'forskeren',\n",
       " 'frisøren',\n",
       " 'ingeniøren',\n",
       " 'inspektøren',\n",
       " 'instruktøren',\n",
       " 'kassemedarbejderen',\n",
       " 'kemikeren',\n",
       " 'kirurgen',\n",
       " 'kokken',\n",
       " 'lederen',\n",
       " 'lægen',\n",
       " 'læreren',\n",
       " 'maleren',\n",
       " 'maskinmester',\n",
       " 'mekanikeren',\n",
       " 'operatøren',\n",
       " 'paramedicineren',\n",
       " 'patologen',\n",
       " 'pedellen',\n",
       " 'planlæggeren',\n",
       " 'programmøren',\n",
       " 'psykologen',\n",
       " 'receptionisten',\n",
       " 'revisoren',\n",
       " 'rådgiveren',\n",
       " 'sekretæren',\n",
       " 'specialisten',\n",
       " 'sygeplejersken',\n",
       " 'sælgeren',\n",
       " 'taksatoren',\n",
       " 'tandplejeren',\n",
       " 'teknikeren',\n",
       " 'terapeuten',\n",
       " 'tømreren',\n",
       " 'underviseren',\n",
       " 'vejlederen'}"
      ]
     },
     "execution_count": 35,
     "metadata": {},
     "output_type": "execute_result"
    }
   ],
   "source": [
    "professions = [p.split()[0] for p in data_]\n",
    "set(professions)\n"
   ]
  },
  {
   "cell_type": "code",
   "execution_count": null,
   "metadata": {},
   "outputs": [],
   "source": []
  }
 ],
 "metadata": {
  "kernelspec": {
   "display_name": "Python 3",
   "language": "python",
   "name": "python3"
  },
  "language_info": {
   "codemirror_mode": {
    "name": "ipython",
    "version": 3
   },
   "file_extension": ".py",
   "mimetype": "text/x-python",
   "name": "python",
   "nbconvert_exporter": "python",
   "pygments_lexer": "ipython3",
   "version": "3.9.2"
  },
  "orig_nbformat": 4,
  "vscode": {
   "interpreter": {
    "hash": "767d51c1340bd893661ea55ea3124f6de3c7a262a8b4abca0554b478b1e2ff90"
   }
  }
 },
 "nbformat": 4,
 "nbformat_minor": 2
}
