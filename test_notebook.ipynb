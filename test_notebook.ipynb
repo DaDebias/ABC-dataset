{
 "cells": [
  {
   "cell_type": "code",
   "execution_count": 111,
   "metadata": {},
   "outputs": [],
   "source": [
    "from danlp.models import load_xlmr_coref_model\n",
    "import json"
   ]
  },
  {
   "cell_type": "code",
   "execution_count": 102,
   "metadata": {},
   "outputs": [
    {
     "name": "stdout",
     "output_type": "stream",
     "text": [
      "Use coarse to fine: True\n"
     ]
    }
   ],
   "source": [
    "# load the coreference model\n",
    "coref_model = load_xlmr_coref_model() "
   ]
  },
  {
   "cell_type": "code",
   "execution_count": 103,
   "metadata": {},
   "outputs": [],
   "source": [
    "with open(\"/Users/thearolskovsloth/Documents/MASTERS_I_COGSCI/local_cool_prog_thesis/ABC-dataset/data/COREF_LM/coref_lm.da\", \"r\") as f:\n",
    "    data = f.readlines()\n"
   ]
  },
  {
   "cell_type": "code",
   "execution_count": 113,
   "metadata": {},
   "outputs": [],
   "source": [
    "data_ = [line_ for line_ in data if line_ != '---\\n']\n",
    "i = 0\n",
    "preds = []\n",
    "\n",
    "for i in data_:\n",
    "    line = [i.split()]\n",
    "    c = coref_model.predict(line)\n",
    "    preds.append(c)"
   ]
  },
  {
   "cell_type": "code",
   "execution_count": 114,
   "metadata": {},
   "outputs": [],
   "source": [
    "#write predictions to json file\n",
    "with open(\"/Users/thearolskovsloth/Documents/MASTERS_I_COGSCI/local_cool_prog_thesis/ABC-dataset/outputs/coref/da_coref.json\", \"w\") as final:\n",
    "   json.dump(preds, final) "
   ]
  },
  {
   "cell_type": "code",
   "execution_count": 106,
   "metadata": {},
   "outputs": [
    {
     "name": "stdout",
     "output_type": "stream",
     "text": [
      "[['teknikeren', 'ødelagde', 'hans', 'bukser', 'ved', 'huset.']]\n"
     ]
    },
    {
     "data": {
      "text/plain": [
       "[]"
      ]
     },
     "execution_count": 106,
     "metadata": {},
     "output_type": "execute_result"
    }
   ],
   "source": [
    "# TEST\n",
    "p= [\"teknikeren ødelagde hans bukser ved huset.\".split()]\n",
    "print(p)\n",
    "c = coref_model.predict_clusters(p)\n",
    "c"
   ]
  },
  {
   "cell_type": "code",
   "execution_count": null,
   "metadata": {},
   "outputs": [],
   "source": []
  }
 ],
 "metadata": {
  "kernelspec": {
   "display_name": "abc",
   "language": "python",
   "name": "python3"
  },
  "language_info": {
   "codemirror_mode": {
    "name": "ipython",
    "version": 3
   },
   "file_extension": ".py",
   "mimetype": "text/x-python",
   "name": "python",
   "nbconvert_exporter": "python",
   "pygments_lexer": "ipython3",
   "version": "3.8.0"
  },
  "orig_nbformat": 4,
  "vscode": {
   "interpreter": {
    "hash": "71d768482f5cfb7777a49070b07a1100c7354a2d010061b6a3b129b009aca15d"
   }
  }
 },
 "nbformat": 4,
 "nbformat_minor": 2
}
