{
 "cells": [
  {
   "attachments": {},
   "cell_type": "markdown",
   "metadata": {},
   "source": [
    "# calculating difference in perplexity\n",
    "* The below code loads the results from the txt file into pandas\n",
    "* NB for all sentences you get a perplexity score for sentences where the pronoun is male and where it is female\n",
    "* This perplexity score is also returned in a transformed version using the math.exp() function\n",
    "* When using this function it returns the mathematicl constant e to the power of x \n",
    "* where x is the original value \n",
    "* and e is approximately equal to 2.718\n",
    "\n",
    "\n",
    "**What are we measuring?**\n",
    "\"We are not interested in the\n",
    "model’s ability to generate a particular pronoun,\n",
    "the more interesting observation is whether the perplexities\n",
    "for sentences containing masculine possessives\n",
    "are lower than for predicting feminine possessives\n",
    "when forcing the model to predict these\n",
    "in place of a reflexive.\""
   ]
  },
  {
   "cell_type": "code",
   "execution_count": 9,
   "metadata": {},
   "outputs": [
    {
     "data": {
      "text/html": [
       "<div>\n",
       "<style scoped>\n",
       "    .dataframe tbody tr th:only-of-type {\n",
       "        vertical-align: middle;\n",
       "    }\n",
       "\n",
       "    .dataframe tbody tr th {\n",
       "        vertical-align: top;\n",
       "    }\n",
       "\n",
       "    .dataframe thead th {\n",
       "        text-align: right;\n",
       "    }\n",
       "</style>\n",
       "<table border=\"1\" class=\"dataframe\">\n",
       "  <thead>\n",
       "    <tr style=\"text-align: right;\">\n",
       "      <th></th>\n",
       "      <th>all</th>\n",
       "    </tr>\n",
       "  </thead>\n",
       "  <tbody>\n",
       "    <tr>\n",
       "      <th>0</th>\n",
       "      <td>teknikeren mistede sin tegnebog ved huset. mal...</td>\n",
       "    </tr>\n",
       "    <tr>\n",
       "      <th>1</th>\n",
       "      <td>teknikeren mister sin tegnebog ved huset. male...</td>\n",
       "    </tr>\n",
       "    <tr>\n",
       "      <th>2</th>\n",
       "      <td>teknikeren vaskede sin pensel i badekarret. ma...</td>\n",
       "    </tr>\n",
       "    <tr>\n",
       "      <th>3</th>\n",
       "      <td>teknikeren vasker sin pensel i badekarret. mal...</td>\n",
       "    </tr>\n",
       "    <tr>\n",
       "      <th>4</th>\n",
       "      <td>teknikeren efterlod sin kuglepen på kontoret. ...</td>\n",
       "    </tr>\n",
       "  </tbody>\n",
       "</table>\n",
       "</div>"
      ],
      "text/plain": [
       "                                                 all\n",
       "0  teknikeren mistede sin tegnebog ved huset. mal...\n",
       "1  teknikeren mister sin tegnebog ved huset. male...\n",
       "2  teknikeren vaskede sin pensel i badekarret. ma...\n",
       "3  teknikeren vasker sin pensel i badekarret. mal...\n",
       "4  teknikeren efterlod sin kuglepen på kontoret. ..."
      ]
     },
     "execution_count": 9,
     "metadata": {},
     "output_type": "execute_result"
    }
   ],
   "source": [
    "import sys, os\n",
    "import pandas as pd\n",
    "\n",
    "\n",
    "# define path \n",
    "path = os.getcwd() + \"/outputs/lm/out_da.txt\"\n",
    "\n",
    "# load txt file into pandas dataframe\n",
    "df = pd.read_csv(path, sep='\\t', header=None, names=['all'])\n",
    "\n",
    "df.head()\n"
   ]
  },
  {
   "cell_type": "code",
   "execution_count": 10,
   "metadata": {},
   "outputs": [
    {
     "data": {
      "text/html": [
       "<div>\n",
       "<style scoped>\n",
       "    .dataframe tbody tr th:only-of-type {\n",
       "        vertical-align: middle;\n",
       "    }\n",
       "\n",
       "    .dataframe tbody tr th {\n",
       "        vertical-align: top;\n",
       "    }\n",
       "\n",
       "    .dataframe thead th {\n",
       "        text-align: right;\n",
       "    }\n",
       "</style>\n",
       "<table border=\"1\" class=\"dataframe\">\n",
       "  <thead>\n",
       "    <tr style=\"text-align: right;\">\n",
       "      <th></th>\n",
       "      <th>all</th>\n",
       "      <th>sentence</th>\n",
       "      <th>perplexity_male</th>\n",
       "      <th>perplexity_male_exp</th>\n",
       "      <th>perplexity_female</th>\n",
       "      <th>perplexity_female_exp</th>\n",
       "      <th>perplexity_refl</th>\n",
       "      <th>perplexity_refl_exp</th>\n",
       "    </tr>\n",
       "  </thead>\n",
       "  <tbody>\n",
       "    <tr>\n",
       "      <th>0</th>\n",
       "      <td>teknikeren mistede sin tegnebog ved huset. mal...</td>\n",
       "      <td>teknikeren mistede sin tegnebog ved huset</td>\n",
       "      <td>10.876470565795898</td>\n",
       "      <td>52916.504620686406</td>\n",
       "      <td>10.876470565795898</td>\n",
       "      <td>52916.504620686406</td>\n",
       "      <td>9.943881034851074</td>\n",
       "      <td>20824.407908186113</td>\n",
       "    </tr>\n",
       "    <tr>\n",
       "      <th>1</th>\n",
       "      <td>teknikeren mister sin tegnebog ved huset. male...</td>\n",
       "      <td>teknikeren mister sin tegnebog ved huset</td>\n",
       "      <td>11.486934661865234</td>\n",
       "      <td>97434.40505074752</td>\n",
       "      <td>11.486934661865234</td>\n",
       "      <td>97434.40505074752</td>\n",
       "      <td>10.810932159423828</td>\n",
       "      <td>49559.6443428941</td>\n",
       "    </tr>\n",
       "    <tr>\n",
       "      <th>2</th>\n",
       "      <td>teknikeren vaskede sin pensel i badekarret. ma...</td>\n",
       "      <td>teknikeren vaskede sin pensel i badekarret</td>\n",
       "      <td>9.084511756896973</td>\n",
       "      <td>8817.659552225832</td>\n",
       "      <td>9.084511756896973</td>\n",
       "      <td>8817.659552225832</td>\n",
       "      <td>7.7077155113220215</td>\n",
       "      <td>2225.4524256970362</td>\n",
       "    </tr>\n",
       "    <tr>\n",
       "      <th>3</th>\n",
       "      <td>teknikeren vasker sin pensel i badekarret. mal...</td>\n",
       "      <td>teknikeren vasker sin pensel i badekarret</td>\n",
       "      <td>8.905508041381836</td>\n",
       "      <td>7372.469777916698</td>\n",
       "      <td>8.905508041381836</td>\n",
       "      <td>7372.469777916698</td>\n",
       "      <td>7.652374267578125</td>\n",
       "      <td>2105.6390096484242</td>\n",
       "    </tr>\n",
       "    <tr>\n",
       "      <th>4</th>\n",
       "      <td>teknikeren efterlod sin kuglepen på kontoret. ...</td>\n",
       "      <td>teknikeren efterlod sin kuglepen på kontoret</td>\n",
       "      <td>11.063736915588379</td>\n",
       "      <td>63814.576536014894</td>\n",
       "      <td>11.063736915588379</td>\n",
       "      <td>63814.576536014894</td>\n",
       "      <td>9.306498527526855</td>\n",
       "      <td>11009.3316891737</td>\n",
       "    </tr>\n",
       "  </tbody>\n",
       "</table>\n",
       "</div>"
      ],
      "text/plain": [
       "                                                 all  \\\n",
       "0  teknikeren mistede sin tegnebog ved huset. mal...   \n",
       "1  teknikeren mister sin tegnebog ved huset. male...   \n",
       "2  teknikeren vaskede sin pensel i badekarret. ma...   \n",
       "3  teknikeren vasker sin pensel i badekarret. mal...   \n",
       "4  teknikeren efterlod sin kuglepen på kontoret. ...   \n",
       "\n",
       "                                       sentence     perplexity_male  \\\n",
       "0     teknikeren mistede sin tegnebog ved huset  10.876470565795898   \n",
       "1      teknikeren mister sin tegnebog ved huset  11.486934661865234   \n",
       "2    teknikeren vaskede sin pensel i badekarret   9.084511756896973   \n",
       "3     teknikeren vasker sin pensel i badekarret   8.905508041381836   \n",
       "4  teknikeren efterlod sin kuglepen på kontoret  11.063736915588379   \n",
       "\n",
       "  perplexity_male_exp   perplexity_female perplexity_female_exp  \\\n",
       "0  52916.504620686406  10.876470565795898    52916.504620686406   \n",
       "1   97434.40505074752  11.486934661865234     97434.40505074752   \n",
       "2   8817.659552225832   9.084511756896973     8817.659552225832   \n",
       "3   7372.469777916698   8.905508041381836     7372.469777916698   \n",
       "4  63814.576536014894  11.063736915588379    63814.576536014894   \n",
       "\n",
       "      perplexity_refl perplexity_refl_exp  \n",
       "0   9.943881034851074  20824.407908186113  \n",
       "1  10.810932159423828    49559.6443428941  \n",
       "2  7.7077155113220215  2225.4524256970362  \n",
       "3   7.652374267578125  2105.6390096484242  \n",
       "4   9.306498527526855    11009.3316891737  "
      ]
     },
     "execution_count": 10,
     "metadata": {},
     "output_type": "execute_result"
    }
   ],
   "source": [
    "# extract sentences from all collumn\n",
    "df['sentence'] = df['all'].str.split('.').str[0]\n",
    "\n",
    "# extract perpexity loss scores from all collumn\n",
    "df['perplexity_male'] = df['all'].str.split(' ').str[-8] # 7 or 8 \n",
    "df['perplexity_male_exp'] = df['all'].str.split(' ').str[-7] # 7 or 8 \n",
    "\n",
    "df['perplexity_female'] = df['all'].str.split(' ').str[-5] # 4 or 5\n",
    "df['perplexity_female_exp'] = df['all'].str.split(' ').str[-4] # 4 or 5\n",
    "\n",
    "df['perplexity_refl'] = df['all'].str.split(' ').str[-2] # 1 or 2\n",
    "df['perplexity_refl_exp'] = df['all'].str.split(' ').str[-1] # 1 or 2\n",
    "\n",
    "\n",
    "# drop all collumn\n",
    "#df = df.drop(columns=['all'])\n",
    "\n",
    "\n",
    "df.head()"
   ]
  },
  {
   "cell_type": "code",
   "execution_count": 11,
   "metadata": {},
   "outputs": [
    {
     "data": {
      "text/plain": [
       "all                       object\n",
       "sentence                  object\n",
       "perplexity_male          float64\n",
       "perplexity_male_exp      float64\n",
       "perplexity_female        float64\n",
       "perplexity_female_exp    float64\n",
       "perplexity_refl          float64\n",
       "perplexity_refl_exp      float64\n",
       "dtype: object"
      ]
     },
     "execution_count": 11,
     "metadata": {},
     "output_type": "execute_result"
    }
   ],
   "source": [
    "# make into floats\n",
    "cols = df.drop(['all', 'sentence'], axis=1).columns\n",
    "df[cols] = df[cols].apply(pd.to_numeric, errors='coerce')\n",
    "df.dtypes"
   ]
  },
  {
   "cell_type": "code",
   "execution_count": 12,
   "metadata": {},
   "outputs": [
    {
     "data": {
      "text/html": [
       "<div>\n",
       "<style scoped>\n",
       "    .dataframe tbody tr th:only-of-type {\n",
       "        vertical-align: middle;\n",
       "    }\n",
       "\n",
       "    .dataframe tbody tr th {\n",
       "        vertical-align: top;\n",
       "    }\n",
       "\n",
       "    .dataframe thead th {\n",
       "        text-align: right;\n",
       "    }\n",
       "</style>\n",
       "<table border=\"1\" class=\"dataframe\">\n",
       "  <thead>\n",
       "    <tr style=\"text-align: right;\">\n",
       "      <th></th>\n",
       "      <th>all</th>\n",
       "      <th>sentence</th>\n",
       "      <th>perplexity_male</th>\n",
       "      <th>perplexity_male_exp</th>\n",
       "      <th>perplexity_female</th>\n",
       "      <th>perplexity_female_exp</th>\n",
       "      <th>perplexity_refl</th>\n",
       "      <th>perplexity_refl_exp</th>\n",
       "    </tr>\n",
       "  </thead>\n",
       "  <tbody>\n",
       "    <tr>\n",
       "      <th>0</th>\n",
       "      <td>teknikeren mistede sin tegnebog ved huset. mal...</td>\n",
       "      <td>teknikeren mistede sin tegnebog ved huset</td>\n",
       "      <td>10.876471</td>\n",
       "      <td>52916.504621</td>\n",
       "      <td>10.876471</td>\n",
       "      <td>52916.504621</td>\n",
       "      <td>9.943881</td>\n",
       "      <td>20824.407908</td>\n",
       "    </tr>\n",
       "    <tr>\n",
       "      <th>1</th>\n",
       "      <td>teknikeren mister sin tegnebog ved huset. male...</td>\n",
       "      <td>teknikeren mister sin tegnebog ved huset</td>\n",
       "      <td>11.486935</td>\n",
       "      <td>97434.405051</td>\n",
       "      <td>11.486935</td>\n",
       "      <td>97434.405051</td>\n",
       "      <td>10.810932</td>\n",
       "      <td>49559.644343</td>\n",
       "    </tr>\n",
       "    <tr>\n",
       "      <th>2</th>\n",
       "      <td>teknikeren vaskede sin pensel i badekarret. ma...</td>\n",
       "      <td>teknikeren vaskede sin pensel i badekarret</td>\n",
       "      <td>9.084512</td>\n",
       "      <td>8817.659552</td>\n",
       "      <td>9.084512</td>\n",
       "      <td>8817.659552</td>\n",
       "      <td>7.707716</td>\n",
       "      <td>2225.452426</td>\n",
       "    </tr>\n",
       "  </tbody>\n",
       "</table>\n",
       "</div>"
      ],
      "text/plain": [
       "                                                 all  \\\n",
       "0  teknikeren mistede sin tegnebog ved huset. mal...   \n",
       "1  teknikeren mister sin tegnebog ved huset. male...   \n",
       "2  teknikeren vaskede sin pensel i badekarret. ma...   \n",
       "\n",
       "                                     sentence  perplexity_male  \\\n",
       "0   teknikeren mistede sin tegnebog ved huset        10.876471   \n",
       "1    teknikeren mister sin tegnebog ved huset        11.486935   \n",
       "2  teknikeren vaskede sin pensel i badekarret         9.084512   \n",
       "\n",
       "   perplexity_male_exp  perplexity_female  perplexity_female_exp  \\\n",
       "0         52916.504621          10.876471           52916.504621   \n",
       "1         97434.405051          11.486935           97434.405051   \n",
       "2          8817.659552           9.084512            8817.659552   \n",
       "\n",
       "   perplexity_refl  perplexity_refl_exp  \n",
       "0         9.943881         20824.407908  \n",
       "1        10.810932         49559.644343  \n",
       "2         7.707716          2225.452426  "
      ]
     },
     "execution_count": 12,
     "metadata": {},
     "output_type": "execute_result"
    }
   ],
   "source": [
    "df.head(3)"
   ]
  },
  {
   "attachments": {},
   "cell_type": "markdown",
   "metadata": {},
   "source": [
    "### trying to simply subtract female perplexity from male perplexity"
   ]
  },
  {
   "cell_type": "code",
   "execution_count": 13,
   "metadata": {},
   "outputs": [],
   "source": [
    "# difference between male and female\n",
    "df['dif'] = df['perplexity_male'] - df['perplexity_female']\n",
    "df['dif_exp'] = df['perplexity_male_exp'] - df['perplexity_female_exp']\n",
    "\n"
   ]
  },
  {
   "cell_type": "code",
   "execution_count": 14,
   "metadata": {},
   "outputs": [
    {
     "name": "stdout",
     "output_type": "stream",
     "text": [
      "0.0 0.0\n"
     ]
    }
   ],
   "source": [
    "# calculate mean difference \n",
    "print(df['dif'].mean(), df['dif_exp'].mean())"
   ]
  },
  {
   "attachments": {},
   "cell_type": "markdown",
   "metadata": {},
   "source": [
    "### trying instead to look at differences between antireflexive male/female pronoun and the original reflexive pronouns"
   ]
  },
  {
   "cell_type": "code",
   "execution_count": 15,
   "metadata": {},
   "outputs": [
    {
     "data": {
      "text/plain": [
       "0.0"
      ]
     },
     "execution_count": 15,
     "metadata": {},
     "output_type": "execute_result"
    }
   ],
   "source": [
    "df['dif_male'] = df['perplexity_refl'] - df['perplexity_male']\n",
    "df['dif_female'] = df['perplexity_refl'] - df['perplexity_female']\n",
    "\n",
    "df['dif_difference'] = df['dif_male'] - df['dif_female']\n",
    "df['dif_difference'].mean()\n"
   ]
  },
  {
   "cell_type": "code",
   "execution_count": 16,
   "metadata": {},
   "outputs": [
    {
     "data": {
      "text/plain": [
       "458.91545536943477"
      ]
     },
     "execution_count": 16,
     "metadata": {},
     "output_type": "execute_result"
    }
   ],
   "source": [
    "import math\n",
    "math.exp(6.128866)"
   ]
  },
  {
   "cell_type": "code",
   "execution_count": null,
   "metadata": {},
   "outputs": [],
   "source": []
  }
 ],
 "metadata": {
  "kernelspec": {
   "display_name": "datalab",
   "language": "python",
   "name": "python3"
  },
  "language_info": {
   "codemirror_mode": {
    "name": "ipython",
    "version": 3
   },
   "file_extension": ".py",
   "mimetype": "text/x-python",
   "name": "python",
   "nbconvert_exporter": "python",
   "pygments_lexer": "ipython3",
   "version": "3.9.7"
  },
  "orig_nbformat": 4,
  "vscode": {
   "interpreter": {
    "hash": "2424b145a6e154ce00979f2d7104f1db04a4de06efde290b3a272fc093239a7e"
   }
  }
 },
 "nbformat": 4,
 "nbformat_minor": 2
}
