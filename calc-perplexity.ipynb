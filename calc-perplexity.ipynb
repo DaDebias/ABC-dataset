{
 "cells": [
  {
   "attachments": {},
   "cell_type": "markdown",
   "metadata": {},
   "source": [
    "# calculating difference in perplexity\n",
    "* The below code loads the results from the txt file into pandas\n",
    "* NB for all sentences you get a perplexity score for sentences where the pronoun is male and where it is female\n",
    "* This perplexity score is also returned in a transformed version using the math.exp() function\n",
    "* When using this function it returns the mathematicl constant e to the power of x \n",
    "* where x is the original value \n",
    "* and e is approximately equal to 2.718\n",
    "\n",
    "\n",
    "**What are we measuring?**\n",
    "\"We are not interested in the\n",
    "model’s ability to generate a particular pronoun,\n",
    "the more interesting observation is whether the perplexities\n",
    "for sentences containing masculine possessives\n",
    "are lower than for predicting feminine possessives\n",
    "when forcing the model to predict these\n",
    "in place of a reflexive.\""
   ]
  },
  {
   "cell_type": "code",
   "execution_count": 1,
   "metadata": {},
   "outputs": [
    {
     "data": {
      "text/html": [
       "<div>\n",
       "<style scoped>\n",
       "    .dataframe tbody tr th:only-of-type {\n",
       "        vertical-align: middle;\n",
       "    }\n",
       "\n",
       "    .dataframe tbody tr th {\n",
       "        vertical-align: top;\n",
       "    }\n",
       "\n",
       "    .dataframe thead th {\n",
       "        text-align: right;\n",
       "    }\n",
       "</style>\n",
       "<table border=\"1\" class=\"dataframe\">\n",
       "  <thead>\n",
       "    <tr style=\"text-align: right;\">\n",
       "      <th></th>\n",
       "      <th>all</th>\n",
       "    </tr>\n",
       "  </thead>\n",
       "  <tbody>\n",
       "    <tr>\n",
       "      <th>0</th>\n",
       "      <td>teknikeren mistede sin tegnebog ved huset. mal...</td>\n",
       "    </tr>\n",
       "    <tr>\n",
       "      <th>1</th>\n",
       "      <td>teknikeren mister sin tegnebog ved huset. male...</td>\n",
       "    </tr>\n",
       "    <tr>\n",
       "      <th>2</th>\n",
       "      <td>teknikeren vaskede sin pensel i badekarret. ma...</td>\n",
       "    </tr>\n",
       "    <tr>\n",
       "      <th>3</th>\n",
       "      <td>teknikeren vasker sin pensel i badekarret. mal...</td>\n",
       "    </tr>\n",
       "    <tr>\n",
       "      <th>4</th>\n",
       "      <td>teknikeren efterlod sin kuglepen på kontoret. ...</td>\n",
       "    </tr>\n",
       "  </tbody>\n",
       "</table>\n",
       "</div>"
      ],
      "text/plain": [
       "                                                 all\n",
       "0  teknikeren mistede sin tegnebog ved huset. mal...\n",
       "1  teknikeren mister sin tegnebog ved huset. male...\n",
       "2  teknikeren vaskede sin pensel i badekarret. ma...\n",
       "3  teknikeren vasker sin pensel i badekarret. mal...\n",
       "4  teknikeren efterlod sin kuglepen på kontoret. ..."
      ]
     },
     "execution_count": 1,
     "metadata": {},
     "output_type": "execute_result"
    }
   ],
   "source": [
    "import sys, os\n",
    "import pandas as pd\n",
    "\n",
    "\n",
    "# define path \n",
    "path = os.getcwd() + \"/outputs/lm/out_da.txt\"\n",
    "\n",
    "# load txt file into pandas dataframe\n",
    "df = pd.read_csv(path, sep='\\t', header=None, names=['all'])\n",
    "\n",
    "df.head()\n"
   ]
  },
  {
   "cell_type": "code",
   "execution_count": 2,
   "metadata": {},
   "outputs": [
    {
     "data": {
      "text/html": [
       "<div>\n",
       "<style scoped>\n",
       "    .dataframe tbody tr th:only-of-type {\n",
       "        vertical-align: middle;\n",
       "    }\n",
       "\n",
       "    .dataframe tbody tr th {\n",
       "        vertical-align: top;\n",
       "    }\n",
       "\n",
       "    .dataframe thead th {\n",
       "        text-align: right;\n",
       "    }\n",
       "</style>\n",
       "<table border=\"1\" class=\"dataframe\">\n",
       "  <thead>\n",
       "    <tr style=\"text-align: right;\">\n",
       "      <th></th>\n",
       "      <th>all</th>\n",
       "      <th>sentence</th>\n",
       "      <th>perplexity_male</th>\n",
       "      <th>perplexity_male_exp</th>\n",
       "      <th>perplexity_female</th>\n",
       "      <th>perplexity_female_exp</th>\n",
       "      <th>perplexity_refl</th>\n",
       "      <th>perplexity_refl_exp</th>\n",
       "    </tr>\n",
       "  </thead>\n",
       "  <tbody>\n",
       "    <tr>\n",
       "      <th>0</th>\n",
       "      <td>teknikeren mistede sin tegnebog ved huset. mal...</td>\n",
       "      <td>teknikeren mistede sin tegnebog ved huset</td>\n",
       "      <td>2.408111333847046</td>\n",
       "      <td>11.112952654759475</td>\n",
       "      <td>2.6990482807159424</td>\n",
       "      <td>14.865577133915654</td>\n",
       "      <td>2.0327019691467285</td>\n",
       "      <td>7.6346872040928675</td>\n",
       "    </tr>\n",
       "    <tr>\n",
       "      <th>1</th>\n",
       "      <td>teknikeren mister sin tegnebog ved huset. male...</td>\n",
       "      <td>teknikeren mister sin tegnebog ved huset</td>\n",
       "      <td>2.251804828643799</td>\n",
       "      <td>9.50487503576735</td>\n",
       "      <td>2.5716712474823</td>\n",
       "      <td>13.087678924173932</td>\n",
       "      <td>2.0275373458862305</td>\n",
       "      <td>7.5953585671872474</td>\n",
       "    </tr>\n",
       "    <tr>\n",
       "      <th>2</th>\n",
       "      <td>teknikeren vaskede sin pensel i badekarret. ma...</td>\n",
       "      <td>teknikeren vaskede sin pensel i badekarret</td>\n",
       "      <td>2.4920880794525146</td>\n",
       "      <td>12.086487335632894</td>\n",
       "      <td>2.600323438644409</td>\n",
       "      <td>13.468093432494372</td>\n",
       "      <td>1.9188932180404663</td>\n",
       "      <td>6.81341333169151</td>\n",
       "    </tr>\n",
       "    <tr>\n",
       "      <th>3</th>\n",
       "      <td>teknikeren vasker sin pensel i badekarret. mal...</td>\n",
       "      <td>teknikeren vasker sin pensel i badekarret</td>\n",
       "      <td>2.424525022506714</td>\n",
       "      <td>11.29686238939157</td>\n",
       "      <td>2.5879499912261963</td>\n",
       "      <td>13.30247344474871</td>\n",
       "      <td>1.9054945707321167</td>\n",
       "      <td>6.722731671904486</td>\n",
       "    </tr>\n",
       "    <tr>\n",
       "      <th>4</th>\n",
       "      <td>teknikeren efterlod sin kuglepen på kontoret. ...</td>\n",
       "      <td>teknikeren efterlod sin kuglepen på kontoret</td>\n",
       "      <td>2.2574832439422607</td>\n",
       "      <td>9.559001193542887</td>\n",
       "      <td>2.3604862689971924</td>\n",
       "      <td>10.596102756134005</td>\n",
       "      <td>1.8524682521820068</td>\n",
       "      <td>6.375536549829676</td>\n",
       "    </tr>\n",
       "  </tbody>\n",
       "</table>\n",
       "</div>"
      ],
      "text/plain": [
       "                                                 all  \\\n",
       "0  teknikeren mistede sin tegnebog ved huset. mal...   \n",
       "1  teknikeren mister sin tegnebog ved huset. male...   \n",
       "2  teknikeren vaskede sin pensel i badekarret. ma...   \n",
       "3  teknikeren vasker sin pensel i badekarret. mal...   \n",
       "4  teknikeren efterlod sin kuglepen på kontoret. ...   \n",
       "\n",
       "                                       sentence     perplexity_male  \\\n",
       "0     teknikeren mistede sin tegnebog ved huset   2.408111333847046   \n",
       "1      teknikeren mister sin tegnebog ved huset   2.251804828643799   \n",
       "2    teknikeren vaskede sin pensel i badekarret  2.4920880794525146   \n",
       "3     teknikeren vasker sin pensel i badekarret   2.424525022506714   \n",
       "4  teknikeren efterlod sin kuglepen på kontoret  2.2574832439422607   \n",
       "\n",
       "  perplexity_male_exp   perplexity_female perplexity_female_exp  \\\n",
       "0  11.112952654759475  2.6990482807159424    14.865577133915654   \n",
       "1    9.50487503576735     2.5716712474823    13.087678924173932   \n",
       "2  12.086487335632894   2.600323438644409    13.468093432494372   \n",
       "3   11.29686238939157  2.5879499912261963     13.30247344474871   \n",
       "4   9.559001193542887  2.3604862689971924    10.596102756134005   \n",
       "\n",
       "      perplexity_refl perplexity_refl_exp  \n",
       "0  2.0327019691467285  7.6346872040928675  \n",
       "1  2.0275373458862305  7.5953585671872474  \n",
       "2  1.9188932180404663    6.81341333169151  \n",
       "3  1.9054945707321167   6.722731671904486  \n",
       "4  1.8524682521820068   6.375536549829676  "
      ]
     },
     "execution_count": 2,
     "metadata": {},
     "output_type": "execute_result"
    }
   ],
   "source": [
    "# extract sentences from all collumn\n",
    "df['sentence'] = df['all'].str.split('.').str[0]\n",
    "\n",
    "# extract perpexity loss scores from all collumn\n",
    "df['perplexity_male'] = df['all'].str.split(' ').str[-8]  \n",
    "df['perplexity_male_exp'] = df['all'].str.split(' ').str[-7]  \n",
    "\n",
    "df['perplexity_female'] = df['all'].str.split(' ').str[-5]  \n",
    "df['perplexity_female_exp'] = df['all'].str.split(' ').str[-4] \n",
    "\n",
    "df['perplexity_refl'] = df['all'].str.split(' ').str[-2]  \n",
    "df['perplexity_refl_exp'] = df['all'].str.split(' ').str[-1] \n",
    "\n",
    "\n",
    "# drop all collumn\n",
    "#df = df.drop(columns=['all'])\n",
    "\n",
    "\n",
    "df.head()"
   ]
  },
  {
   "cell_type": "code",
   "execution_count": 3,
   "metadata": {},
   "outputs": [
    {
     "data": {
      "text/plain": [
       "all                       object\n",
       "sentence                  object\n",
       "perplexity_male          float64\n",
       "perplexity_male_exp      float64\n",
       "perplexity_female        float64\n",
       "perplexity_female_exp    float64\n",
       "perplexity_refl          float64\n",
       "perplexity_refl_exp      float64\n",
       "dtype: object"
      ]
     },
     "execution_count": 3,
     "metadata": {},
     "output_type": "execute_result"
    }
   ],
   "source": [
    "# make into floats\n",
    "cols = df.drop(['all', 'sentence'], axis=1).columns\n",
    "df[cols] = df[cols].apply(pd.to_numeric, errors='coerce')\n",
    "df.dtypes"
   ]
  },
  {
   "cell_type": "code",
   "execution_count": 4,
   "metadata": {},
   "outputs": [
    {
     "data": {
      "text/html": [
       "<div>\n",
       "<style scoped>\n",
       "    .dataframe tbody tr th:only-of-type {\n",
       "        vertical-align: middle;\n",
       "    }\n",
       "\n",
       "    .dataframe tbody tr th {\n",
       "        vertical-align: top;\n",
       "    }\n",
       "\n",
       "    .dataframe thead th {\n",
       "        text-align: right;\n",
       "    }\n",
       "</style>\n",
       "<table border=\"1\" class=\"dataframe\">\n",
       "  <thead>\n",
       "    <tr style=\"text-align: right;\">\n",
       "      <th></th>\n",
       "      <th>all</th>\n",
       "      <th>sentence</th>\n",
       "      <th>perplexity_male</th>\n",
       "      <th>perplexity_male_exp</th>\n",
       "      <th>perplexity_female</th>\n",
       "      <th>perplexity_female_exp</th>\n",
       "      <th>perplexity_refl</th>\n",
       "      <th>perplexity_refl_exp</th>\n",
       "    </tr>\n",
       "  </thead>\n",
       "  <tbody>\n",
       "    <tr>\n",
       "      <th>0</th>\n",
       "      <td>teknikeren mistede sin tegnebog ved huset. mal...</td>\n",
       "      <td>teknikeren mistede sin tegnebog ved huset</td>\n",
       "      <td>2.408111</td>\n",
       "      <td>11.112953</td>\n",
       "      <td>2.699048</td>\n",
       "      <td>14.865577</td>\n",
       "      <td>2.032702</td>\n",
       "      <td>7.634687</td>\n",
       "    </tr>\n",
       "    <tr>\n",
       "      <th>1</th>\n",
       "      <td>teknikeren mister sin tegnebog ved huset. male...</td>\n",
       "      <td>teknikeren mister sin tegnebog ved huset</td>\n",
       "      <td>2.251805</td>\n",
       "      <td>9.504875</td>\n",
       "      <td>2.571671</td>\n",
       "      <td>13.087679</td>\n",
       "      <td>2.027537</td>\n",
       "      <td>7.595359</td>\n",
       "    </tr>\n",
       "    <tr>\n",
       "      <th>2</th>\n",
       "      <td>teknikeren vaskede sin pensel i badekarret. ma...</td>\n",
       "      <td>teknikeren vaskede sin pensel i badekarret</td>\n",
       "      <td>2.492088</td>\n",
       "      <td>12.086487</td>\n",
       "      <td>2.600323</td>\n",
       "      <td>13.468093</td>\n",
       "      <td>1.918893</td>\n",
       "      <td>6.813413</td>\n",
       "    </tr>\n",
       "  </tbody>\n",
       "</table>\n",
       "</div>"
      ],
      "text/plain": [
       "                                                 all  \\\n",
       "0  teknikeren mistede sin tegnebog ved huset. mal...   \n",
       "1  teknikeren mister sin tegnebog ved huset. male...   \n",
       "2  teknikeren vaskede sin pensel i badekarret. ma...   \n",
       "\n",
       "                                     sentence  perplexity_male  \\\n",
       "0   teknikeren mistede sin tegnebog ved huset         2.408111   \n",
       "1    teknikeren mister sin tegnebog ved huset         2.251805   \n",
       "2  teknikeren vaskede sin pensel i badekarret         2.492088   \n",
       "\n",
       "   perplexity_male_exp  perplexity_female  perplexity_female_exp  \\\n",
       "0            11.112953           2.699048              14.865577   \n",
       "1             9.504875           2.571671              13.087679   \n",
       "2            12.086487           2.600323              13.468093   \n",
       "\n",
       "   perplexity_refl  perplexity_refl_exp  \n",
       "0         2.032702             7.634687  \n",
       "1         2.027537             7.595359  \n",
       "2         1.918893             6.813413  "
      ]
     },
     "execution_count": 4,
     "metadata": {},
     "output_type": "execute_result"
    }
   ],
   "source": [
    "df.head(3)"
   ]
  },
  {
   "attachments": {},
   "cell_type": "markdown",
   "metadata": {},
   "source": [
    "### trying to simply subtract female perplexity from male perplexity"
   ]
  },
  {
   "cell_type": "code",
   "execution_count": 5,
   "metadata": {},
   "outputs": [],
   "source": [
    "# difference between male and female\n",
    "df['dif'] = df['perplexity_male'] - df['perplexity_female']\n",
    "\n",
    "# doing the same with the transformed .exp() scores \n",
    "df['dif_exp'] = df['perplexity_male_exp'] - df['perplexity_female_exp']\n",
    "\n"
   ]
  },
  {
   "cell_type": "code",
   "execution_count": 9,
   "metadata": {},
   "outputs": [
    {
     "name": "stdout",
     "output_type": "stream",
     "text": [
      "Mean difference: -0.013190987470902894\n",
      "Mean difference (transformed): -0.1155025183732454\n"
     ]
    }
   ],
   "source": [
    "# print mean differences\n",
    "print(f\"Mean difference: {df['dif'].mean()}\")\n",
    "print(f\"Mean difference (transformed): {df['dif_exp'].mean()}\")\n"
   ]
  },
  {
   "attachments": {},
   "cell_type": "markdown",
   "metadata": {},
   "source": [
    "### trying instead to look at differences between antireflexive male/female pronoun and the original reflexive pronouns"
   ]
  },
  {
   "cell_type": "code",
   "execution_count": 7,
   "metadata": {},
   "outputs": [
    {
     "data": {
      "text/plain": [
       "0.013190987470902894"
      ]
     },
     "execution_count": 7,
     "metadata": {},
     "output_type": "execute_result"
    }
   ],
   "source": [
    "df['dif_male'] = df['perplexity_refl'] - df['perplexity_male']\n",
    "df['dif_female'] = df['perplexity_refl'] - df['perplexity_female']\n",
    "\n",
    "df['dif_difference'] = df['dif_male'] - df['dif_female']\n",
    "df['dif_difference'].mean()\n",
    "\n",
    "# turns out it is the same as just taking the difference... \n"
   ]
  },
  {
   "cell_type": "code",
   "execution_count": 8,
   "metadata": {},
   "outputs": [
    {
     "data": {
      "text/plain": [
       "458.91545536943477"
      ]
     },
     "execution_count": 8,
     "metadata": {},
     "output_type": "execute_result"
    }
   ],
   "source": [
    "import math\n",
    "math.exp(6.128866)"
   ]
  },
  {
   "cell_type": "code",
   "execution_count": null,
   "metadata": {},
   "outputs": [],
   "source": []
  }
 ],
 "metadata": {
  "kernelspec": {
   "display_name": "datalab",
   "language": "python",
   "name": "python3"
  },
  "language_info": {
   "codemirror_mode": {
    "name": "ipython",
    "version": 3
   },
   "file_extension": ".py",
   "mimetype": "text/x-python",
   "name": "python",
   "nbconvert_exporter": "python",
   "pygments_lexer": "ipython3",
   "version": "3.9.7"
  },
  "orig_nbformat": 4,
  "vscode": {
   "interpreter": {
    "hash": "2424b145a6e154ce00979f2d7104f1db04a4de06efde290b3a272fc093239a7e"
   }
  }
 },
 "nbformat": 4,
 "nbformat_minor": 2
}
